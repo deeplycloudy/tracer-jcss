{
 "cells": [
  {
   "cell_type": "code",
   "execution_count": 6,
   "metadata": {},
   "outputs": [],
   "source": [
    "from __future__ import print_function\n",
    "from __future__ import division\n",
    "from __future__ import print_function\n",
    "\n",
    "import csv\n",
    "import pandas as pd\n",
    "import numpy as np\n",
    "from numpy import genfromtxt\n",
    "\n",
    "from datetime import datetime, date, time, timedelta\n",
    "import glob\n",
    "\n",
    "import matplotlib.pyplot as plt\n",
    "from scipy.spatial.transform import Rotation \n",
    "import pyart\n",
    "\n",
    "from array import array\n",
    "from numpy import *\n",
    "from numpy.linalg import norm\n",
    "\n",
    "import os\n",
    "import pytda\n",
    "import cartopy.crs as ccrs\n",
    "\n",
    "from lmatools.io.LMA_h5_file import LMAh5File\n",
    "from lmatools.coordinateSystems import RadarCoordinateSystem, GeographicSystem, TangentPlaneCartesianSystem, MapProjection"
   ]
  },
  {
   "cell_type": "code",
   "execution_count": null,
   "metadata": {},
   "outputs": [],
   "source": []
  },
  {
   "cell_type": "code",
   "execution_count": 30,
   "metadata": {},
   "outputs": [
    {
     "name": "stdout",
     "output_type": "stream",
     "text": [
      "[datetime.datetime(2017, 7, 8, 21, 30)] ['LMA_170708_213000_60'] {'LMA_170708_213000_60': {'start_time': datetime.datetime(2017, 7, 8, 21, 30), 'start_date': datetime.datetime(2017, 7, 8, 0, 0)}}\n",
      "data for table dt = {0} 0.0\n"
     ]
    }
   ],
   "source": [
    "base = '/home/jessica/gridded/'\n",
    "lma = LMAh5File(base + 'h5_files/2017/Jul/08/HSTNLMA_170708_213000_0060.dat.flash.h5')\n",
    "\n",
    "events, flashes = lma.data_for_table(lma.table_names[0])\n",
    "flashes = pd.DataFrame(flashes)\n",
    "events = pd.DataFrame(events)\n",
    "events = events[events.alt < 16000.]\n",
    "\n",
    "potential = events"
   ]
  },
  {
   "cell_type": "code",
   "execution_count": 31,
   "metadata": {},
   "outputs": [
    {
     "data": {
      "text/plain": [
       "1225"
      ]
     },
     "execution_count": 31,
     "metadata": {},
     "output_type": "execute_result"
    }
   ],
   "source": [
    "len(events)"
   ]
  },
  {
   "cell_type": "code",
   "execution_count": null,
   "metadata": {},
   "outputs": [],
   "source": []
  }
 ],
 "metadata": {
  "kernelspec": {
   "display_name": "Python 3",
   "language": "python",
   "name": "python3"
  },
  "language_info": {
   "codemirror_mode": {
    "name": "ipython",
    "version": 3
   },
   "file_extension": ".py",
   "mimetype": "text/x-python",
   "name": "python",
   "nbconvert_exporter": "python",
   "pygments_lexer": "ipython3",
   "version": "3.8.5"
  }
 },
 "nbformat": 4,
 "nbformat_minor": 4
}
